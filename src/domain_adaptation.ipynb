{
 "cells": [
  {
   "cell_type": "code",
   "execution_count": 58,
   "metadata": {},
   "outputs": [
    {
     "name": "stdout",
     "output_type": "stream",
     "text": [
      "The autoreload extension is already loaded. To reload it, use:\n",
      "  %reload_ext autoreload\n"
     ]
    }
   ],
   "source": [
    "import numpy as np\n",
    "import pandas as pd\n",
    "%load_ext autoreload\n",
    "%autoreload 2\n",
    "\n",
    "from sklearn.model_selection import StratifiedKFold, train_test_split\n",
    "from sklearn.preprocessing import OneHotEncoder, Normalizer\n",
    "from sklearn.metrics import confusion_matrix, accuracy_score, f1_score\n",
    "from sklearn import svm, tree, neighbors, ensemble, linear_model\n",
    "from sklearn.neighbors import KNeighborsClassifier\n",
    "import itertools\n",
    "from sklearn.preprocessing import StandardScaler, MinMaxScaler\n",
    "import os\n",
    "import importlib\n",
    "from model import *\n",
    "from joblib import Parallel, delayed\n",
    "import xgboost as xgb\n",
    "from xgboost import XGBClassifier\n",
    "os.chdir(r'C:\\projects\\ensemble_methods\\projet_ensemble')\n"
   ]
  },
  {
   "cell_type": "code",
   "execution_count": 59,
   "metadata": {},
   "outputs": [],
   "source": [
    "# TRAIN SET\n",
    "kaggle_source_cate_0_train = np.load(r'dataset/domain_adaptation/train/kaggle_source_cate_0_train.npy')\n",
    "kaggle_source_cate_0_train_label = np.load(r'dataset/domain_adaptation/train/kaggle_source_cate_0_train_label.npy')\n",
    "kaggle_target_cate_0_train = np.load(r'dataset/domain_adaptation/train/kaggle_target_cate_0_train.npy')\n",
    "\n",
    "# TEST SET\n",
    "kaggle_source_cate_0_test = np.load(r'dataset/domain_adaptation/test/kaggle_source_cate_0_test.npy')\n",
    "kaggle_source_cate_0_test_label = np.load(r'dataset/domain_adaptation/test/kaggle_source_cate_0_test_label.npy')\n",
    "kaggle_target_cate_0_test = np.load(r'dataset/domain_adaptation/test/kaggle_target_cate_0_test.npy')\n",
    "kaggle_target_cate_0_test_label = np.load(r'dataset/domain_adaptation/test/kaggle_target_cate_0_test_label.npy')"
   ]
  },
  {
   "cell_type": "code",
   "execution_count": 66,
   "metadata": {},
   "outputs": [
    {
     "name": "stdout",
     "output_type": "stream",
     "text": [
      "MMD Score between source and target: 0.002382934615751672\n"
     ]
    }
   ],
   "source": [
    "from sklearn.metrics.pairwise import rbf_kernel\n",
    "\n",
    "def subsample_data(X_source, X_target, n_samples=1000):\n",
    "    # Ensure that the size of the subset is smaller than the number of samples\n",
    "    X_source_sub = X_source[np.random.choice(X_source.shape[0], n_samples, replace=False)]\n",
    "    X_target_sub = X_target[np.random.choice(X_target.shape[0], n_samples, replace=False)]\n",
    "    return X_source_sub, X_target_sub\n",
    "\n",
    "# Subsample 1000 points from both the source and target datasets\n",
    "X_source_sub, X_target_sub = subsample_data(kaggle_source_cate_0_train, kaggle_target_cate_0_train, n_samples=1000)\n",
    "\n",
    "\n",
    "def calculate_mmd(X_source, X_target, kernel='rbf', gamma=1.0):\n",
    "    # Apply kernel functions (Radial Basis Function Kernel here)\n",
    "    if kernel == 'rbf':\n",
    "        K_ss = rbf_kernel(X_source, X_source, gamma=gamma)\n",
    "        K_tt = rbf_kernel(X_target, X_target, gamma=gamma)\n",
    "        K_st = rbf_kernel(X_source, X_target, gamma=gamma)\n",
    "\n",
    "    # Calculate MMD\n",
    "    mmd = np.mean(K_ss) + np.mean(K_tt) - 2 * np.mean(K_st)\n",
    "    return mmd\n",
    "\n",
    "mmd_score = calculate_mmd(X_source_sub, X_target_sub, gamma=1.0)\n",
    "print(\"MMD Score between source and target:\", mmd_score)\n"
   ]
  },
  {
   "cell_type": "code",
   "execution_count": 60,
   "metadata": {},
   "outputs": [
    {
     "name": "stdout",
     "output_type": "stream",
     "text": [
      "F1 Score: 0.7326906222611743\n",
      "Precision: 0.8539325842696629\n",
      "Recall: 0.6415963161933999\n",
      "Balanced accuracy: 0.8150241130349216\n"
     ]
    }
   ],
   "source": [
    "model = XGBClassifier(eval_metric='logloss', max_depth=3)\n",
    "\n",
    "model.fit(kaggle_source_cate_0_train, kaggle_source_cate_0_train_label[:,1])\n",
    "\n",
    "y_pred = model.predict(kaggle_source_cate_0_test)\n",
    "\n",
    "f1 = f1_score(y_pred, kaggle_source_cate_0_test_label[:,1])\n",
    "precision = precision_score(kaggle_source_cate_0_test_label[:,1], y_pred)\n",
    "recall = recall_score(kaggle_source_cate_0_test_label[:,1], y_pred)\n",
    "accuracy = balanced_accuracy_score(kaggle_source_cate_0_test_label[:,1], y_pred)\n",
    "\n",
    "# Print the scores\n",
    "print(f\"F1 Score: {f1}\")\n",
    "print(f\"Precision: {precision}\")\n",
    "print(f\"Recall: {recall}\")\n",
    "print(f\"Balanced accuracy: {accuracy}\")\n"
   ]
  },
  {
   "cell_type": "code",
   "execution_count": 61,
   "metadata": {},
   "outputs": [
    {
     "name": "stdout",
     "output_type": "stream",
     "text": [
      "F1 Score: 0.6330311391407174\n",
      "Precision: 0.6816638370118846\n",
      "Recall: 0.5908756438557763\n",
      "Balanced accuracy: 0.7858573201650758\n"
     ]
    }
   ],
   "source": [
    "y_pred = model.predict(kaggle_target_cate_0_test)\n",
    "\n",
    "f1 = f1_score(y_pred, kaggle_target_cate_0_test_label[:,1])\n",
    "precision = precision_score(kaggle_target_cate_0_test_label[:,1], y_pred)\n",
    "recall = recall_score(kaggle_target_cate_0_test_label[:,1], y_pred)\n",
    "accuracy = balanced_accuracy_score(kaggle_target_cate_0_test_label[:,1], y_pred)\n",
    "\n",
    "# Print the scores\n",
    "print(f\"F1 Score: {f1}\")\n",
    "print(f\"Precision: {precision}\")\n",
    "print(f\"Recall: {recall}\")\n",
    "print(f\"Balanced accuracy: {accuracy}\")\n"
   ]
  },
  {
   "cell_type": "code",
   "execution_count": 62,
   "metadata": {},
   "outputs": [],
   "source": [
    "pseudo_labels = model.predict(kaggle_target_cate_0_train)\n",
    "\n",
    "\n",
    "pseudo_probs = model.predict_proba(kaggle_target_cate_0_train)\n",
    "confidence_threshold = 0.4\n",
    "pseudo_labels = np.where(pseudo_probs.max(axis=1) > confidence_threshold, pseudo_probs.argmax(axis=1), -1)\n",
    "\n",
    "# Filter to only use confident pseudo-labels\n",
    "high_confidence_mask = pseudo_labels != -1\n",
    "X_target_filtered = kaggle_target_cate_0_train[high_confidence_mask]\n",
    "pseudo_labels_filtered = pseudo_labels[high_confidence_mask]\n"
   ]
  },
  {
   "cell_type": "code",
   "execution_count": 63,
   "metadata": {},
   "outputs": [
    {
     "name": "stdout",
     "output_type": "stream",
     "text": [
      "Shape of X_combined_train: (103846, 51)\n",
      "Shape of y_combined_train: (103846,)\n"
     ]
    },
    {
     "data": {
      "text/html": [
       "<style>#sk-container-id-6 {color: black;background-color: white;}#sk-container-id-6 pre{padding: 0;}#sk-container-id-6 div.sk-toggleable {background-color: white;}#sk-container-id-6 label.sk-toggleable__label {cursor: pointer;display: block;width: 100%;margin-bottom: 0;padding: 0.3em;box-sizing: border-box;text-align: center;}#sk-container-id-6 label.sk-toggleable__label-arrow:before {content: \"▸\";float: left;margin-right: 0.25em;color: #696969;}#sk-container-id-6 label.sk-toggleable__label-arrow:hover:before {color: black;}#sk-container-id-6 div.sk-estimator:hover label.sk-toggleable__label-arrow:before {color: black;}#sk-container-id-6 div.sk-toggleable__content {max-height: 0;max-width: 0;overflow: hidden;text-align: left;background-color: #f0f8ff;}#sk-container-id-6 div.sk-toggleable__content pre {margin: 0.2em;color: black;border-radius: 0.25em;background-color: #f0f8ff;}#sk-container-id-6 input.sk-toggleable__control:checked~div.sk-toggleable__content {max-height: 200px;max-width: 100%;overflow: auto;}#sk-container-id-6 input.sk-toggleable__control:checked~label.sk-toggleable__label-arrow:before {content: \"▾\";}#sk-container-id-6 div.sk-estimator input.sk-toggleable__control:checked~label.sk-toggleable__label {background-color: #d4ebff;}#sk-container-id-6 div.sk-label input.sk-toggleable__control:checked~label.sk-toggleable__label {background-color: #d4ebff;}#sk-container-id-6 input.sk-hidden--visually {border: 0;clip: rect(1px 1px 1px 1px);clip: rect(1px, 1px, 1px, 1px);height: 1px;margin: -1px;overflow: hidden;padding: 0;position: absolute;width: 1px;}#sk-container-id-6 div.sk-estimator {font-family: monospace;background-color: #f0f8ff;border: 1px dotted black;border-radius: 0.25em;box-sizing: border-box;margin-bottom: 0.5em;}#sk-container-id-6 div.sk-estimator:hover {background-color: #d4ebff;}#sk-container-id-6 div.sk-parallel-item::after {content: \"\";width: 100%;border-bottom: 1px solid gray;flex-grow: 1;}#sk-container-id-6 div.sk-label:hover label.sk-toggleable__label {background-color: #d4ebff;}#sk-container-id-6 div.sk-serial::before {content: \"\";position: absolute;border-left: 1px solid gray;box-sizing: border-box;top: 0;bottom: 0;left: 50%;z-index: 0;}#sk-container-id-6 div.sk-serial {display: flex;flex-direction: column;align-items: center;background-color: white;padding-right: 0.2em;padding-left: 0.2em;position: relative;}#sk-container-id-6 div.sk-item {position: relative;z-index: 1;}#sk-container-id-6 div.sk-parallel {display: flex;align-items: stretch;justify-content: center;background-color: white;position: relative;}#sk-container-id-6 div.sk-item::before, #sk-container-id-6 div.sk-parallel-item::before {content: \"\";position: absolute;border-left: 1px solid gray;box-sizing: border-box;top: 0;bottom: 0;left: 50%;z-index: -1;}#sk-container-id-6 div.sk-parallel-item {display: flex;flex-direction: column;z-index: 1;position: relative;background-color: white;}#sk-container-id-6 div.sk-parallel-item:first-child::after {align-self: flex-end;width: 50%;}#sk-container-id-6 div.sk-parallel-item:last-child::after {align-self: flex-start;width: 50%;}#sk-container-id-6 div.sk-parallel-item:only-child::after {width: 0;}#sk-container-id-6 div.sk-dashed-wrapped {border: 1px dashed gray;margin: 0 0.4em 0.5em 0.4em;box-sizing: border-box;padding-bottom: 0.4em;background-color: white;}#sk-container-id-6 div.sk-label label {font-family: monospace;font-weight: bold;display: inline-block;line-height: 1.2em;}#sk-container-id-6 div.sk-label-container {text-align: center;}#sk-container-id-6 div.sk-container {/* jupyter's `normalize.less` sets `[hidden] { display: none; }` but bootstrap.min.css set `[hidden] { display: none !important; }` so we also need the `!important` here to be able to override the default hidden behavior on the sphinx rendered scikit-learn.org. See: https://github.com/scikit-learn/scikit-learn/issues/21755 */display: inline-block !important;position: relative;}#sk-container-id-6 div.sk-text-repr-fallback {display: none;}</style><div id=\"sk-container-id-6\" class=\"sk-top-container\"><div class=\"sk-text-repr-fallback\"><pre>XGBClassifier(base_score=None, booster=None, callbacks=None,\n",
       "              colsample_bylevel=None, colsample_bynode=None,\n",
       "              colsample_bytree=None, device=None, early_stopping_rounds=None,\n",
       "              enable_categorical=False, eval_metric=&#x27;logloss&#x27;,\n",
       "              feature_types=None, gamma=None, grow_policy=None,\n",
       "              importance_type=None, interaction_constraints=None,\n",
       "              learning_rate=None, max_bin=None, max_cat_threshold=None,\n",
       "              max_cat_to_onehot=None, max_delta_step=None, max_depth=3,\n",
       "              max_leaves=None, min_child_weight=None, missing=nan,\n",
       "              monotone_constraints=None, multi_strategy=None, n_estimators=None,\n",
       "              n_jobs=None, num_parallel_tree=None, random_state=None, ...)</pre><b>In a Jupyter environment, please rerun this cell to show the HTML representation or trust the notebook. <br />On GitHub, the HTML representation is unable to render, please try loading this page with nbviewer.org.</b></div><div class=\"sk-container\" hidden><div class=\"sk-item\"><div class=\"sk-estimator sk-toggleable\"><input class=\"sk-toggleable__control sk-hidden--visually\" id=\"sk-estimator-id-6\" type=\"checkbox\" checked><label for=\"sk-estimator-id-6\" class=\"sk-toggleable__label sk-toggleable__label-arrow\">XGBClassifier</label><div class=\"sk-toggleable__content\"><pre>XGBClassifier(base_score=None, booster=None, callbacks=None,\n",
       "              colsample_bylevel=None, colsample_bynode=None,\n",
       "              colsample_bytree=None, device=None, early_stopping_rounds=None,\n",
       "              enable_categorical=False, eval_metric=&#x27;logloss&#x27;,\n",
       "              feature_types=None, gamma=None, grow_policy=None,\n",
       "              importance_type=None, interaction_constraints=None,\n",
       "              learning_rate=None, max_bin=None, max_cat_threshold=None,\n",
       "              max_cat_to_onehot=None, max_delta_step=None, max_depth=3,\n",
       "              max_leaves=None, min_child_weight=None, missing=nan,\n",
       "              monotone_constraints=None, multi_strategy=None, n_estimators=None,\n",
       "              n_jobs=None, num_parallel_tree=None, random_state=None, ...)</pre></div></div></div></div></div>"
      ],
      "text/plain": [
       "XGBClassifier(base_score=None, booster=None, callbacks=None,\n",
       "              colsample_bylevel=None, colsample_bynode=None,\n",
       "              colsample_bytree=None, device=None, early_stopping_rounds=None,\n",
       "              enable_categorical=False, eval_metric='logloss',\n",
       "              feature_types=None, gamma=None, grow_policy=None,\n",
       "              importance_type=None, interaction_constraints=None,\n",
       "              learning_rate=None, max_bin=None, max_cat_threshold=None,\n",
       "              max_cat_to_onehot=None, max_delta_step=None, max_depth=3,\n",
       "              max_leaves=None, min_child_weight=None, missing=nan,\n",
       "              monotone_constraints=None, multi_strategy=None, n_estimators=None,\n",
       "              n_jobs=None, num_parallel_tree=None, random_state=None, ...)"
      ]
     },
     "execution_count": 63,
     "metadata": {},
     "output_type": "execute_result"
    }
   ],
   "source": [
    "# Combine source data and filtered pseudo-labeled target data\n",
    "X_combined_train = np.vstack((kaggle_source_cate_0_train, X_target_filtered))\n",
    "y_combined_train = np.hstack((kaggle_source_cate_0_train_label[:,1], pseudo_labels_filtered))\n",
    "\n",
    "# Check the shapes\n",
    "print(\"Shape of X_combined_train:\", X_combined_train.shape)\n",
    "print(\"Shape of y_combined_train:\", y_combined_train.shape)\n",
    "\n",
    "# Fine-tune the model with early stopping\n",
    "model.fit(X_combined_train, y_combined_train, verbose=True)\n"
   ]
  },
  {
   "cell_type": "code",
   "execution_count": 64,
   "metadata": {},
   "outputs": [
    {
     "name": "stdout",
     "output_type": "stream",
     "text": [
      "Fitting the model...\n",
      "Model fit complete. Predicting...\n",
      "F1 Score: 0.6347457627118644\n",
      "Precision: 0.7482517482517482\n",
      "Recall: 0.551140544518028\n",
      "Balanced accuracy: 0.7691321750744041\n",
      "Target Test Scores: {'F1 Score': 0.6347457627118644, 'Precision': 0.7482517482517482, 'Recall': 0.551140544518028, 'Balanced accuracy': 0.7691321750744041}\n"
     ]
    }
   ],
   "source": [
    "# Evaluate the model on the target test set\n",
    "target_test_scores = evaluate_model(model, X_combined_train, y_combined_train, kaggle_target_cate_0_test, kaggle_target_cate_0_test_label[:,1])\n",
    "\n",
    "# Print performance on the target domain\n",
    "print(\"Target Test Scores:\", target_test_scores)\n"
   ]
  },
  {
   "cell_type": "code",
   "execution_count": null,
   "metadata": {},
   "outputs": [],
   "source": []
  }
 ],
 "metadata": {
  "kernelspec": {
   "display_name": "base",
   "language": "python",
   "name": "python3"
  },
  "language_info": {
   "codemirror_mode": {
    "name": "ipython",
    "version": 3
   },
   "file_extension": ".py",
   "mimetype": "text/x-python",
   "name": "python",
   "nbconvert_exporter": "python",
   "pygments_lexer": "ipython3",
   "version": "3.11.7"
  }
 },
 "nbformat": 4,
 "nbformat_minor": 2
}
